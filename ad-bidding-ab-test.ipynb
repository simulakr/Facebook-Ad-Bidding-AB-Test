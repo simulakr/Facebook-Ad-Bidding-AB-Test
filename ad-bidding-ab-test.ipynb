{
 "cells": [
  {
   "cell_type": "code",
   "execution_count": 1,
   "id": "57427726",
   "metadata": {
    "execution": {
     "iopub.execute_input": "2024-09-30T13:36:10.943020Z",
     "iopub.status.busy": "2024-09-30T13:36:10.942620Z",
     "iopub.status.idle": "2024-09-30T13:36:13.462979Z",
     "shell.execute_reply": "2024-09-30T13:36:13.461551Z"
    },
    "id": "ZY9_5nCDCU-9",
    "papermill": {
     "duration": 2.530011,
     "end_time": "2024-09-30T13:36:13.465824",
     "exception": false,
     "start_time": "2024-09-30T13:36:10.935813",
     "status": "completed"
    },
    "tags": []
   },
   "outputs": [],
   "source": [
    "import itertools\n",
    "import numpy as np\n",
    "import pandas as pd\n",
    "import matplotlib.pyplot as plt\n",
    "import seaborn as sns\n"
   ]
  },
  {
   "cell_type": "code",
   "execution_count": 2,
   "id": "ac4ebfa0",
   "metadata": {
    "execution": {
     "iopub.execute_input": "2024-09-30T13:36:13.478785Z",
     "iopub.status.busy": "2024-09-30T13:36:13.478024Z",
     "iopub.status.idle": "2024-09-30T13:36:26.337604Z",
     "shell.execute_reply": "2024-09-30T13:36:26.336192Z"
    },
    "id": "c6kXNPP2WWmW",
    "outputId": "ff64f902-35ee-4caa-b6d9-172f56eb6946",
    "papermill": {
     "duration": 12.869094,
     "end_time": "2024-09-30T13:36:26.340218",
     "exception": false,
     "start_time": "2024-09-30T13:36:13.471124",
     "status": "completed"
    },
    "tags": []
   },
   "outputs": [
    {
     "name": "stdout",
     "output_type": "stream",
     "text": [
      "Requirement already satisfied: statsmodels in /opt/conda/lib/python3.10/site-packages (0.14.2)\r\n",
      "Requirement already satisfied: numpy>=1.22.3 in /opt/conda/lib/python3.10/site-packages (from statsmodels) (1.26.4)\r\n",
      "Requirement already satisfied: scipy!=1.9.2,>=1.8 in /opt/conda/lib/python3.10/site-packages (from statsmodels) (1.14.1)\r\n",
      "Requirement already satisfied: pandas!=2.1.0,>=1.4 in /opt/conda/lib/python3.10/site-packages (from statsmodels) (2.2.2)\r\n",
      "Requirement already satisfied: patsy>=0.5.6 in /opt/conda/lib/python3.10/site-packages (from statsmodels) (0.5.6)\r\n",
      "Requirement already satisfied: packaging>=21.3 in /opt/conda/lib/python3.10/site-packages (from statsmodels) (21.3)\r\n",
      "Requirement already satisfied: pyparsing!=3.0.5,>=2.0.2 in /opt/conda/lib/python3.10/site-packages (from packaging>=21.3->statsmodels) (3.1.2)\r\n",
      "Requirement already satisfied: python-dateutil>=2.8.2 in /opt/conda/lib/python3.10/site-packages (from pandas!=2.1.0,>=1.4->statsmodels) (2.9.0.post0)\r\n",
      "Requirement already satisfied: pytz>=2020.1 in /opt/conda/lib/python3.10/site-packages (from pandas!=2.1.0,>=1.4->statsmodels) (2024.1)\r\n",
      "Requirement already satisfied: tzdata>=2022.7 in /opt/conda/lib/python3.10/site-packages (from pandas!=2.1.0,>=1.4->statsmodels) (2024.1)\r\n",
      "Requirement already satisfied: six in /opt/conda/lib/python3.10/site-packages (from patsy>=0.5.6->statsmodels) (1.16.0)\r\n"
     ]
    }
   ],
   "source": [
    "!pip install statsmodels"
   ]
  },
  {
   "cell_type": "code",
   "execution_count": 3,
   "id": "b91abfa8",
   "metadata": {
    "execution": {
     "iopub.execute_input": "2024-09-30T13:36:26.352391Z",
     "iopub.status.busy": "2024-09-30T13:36:26.351323Z",
     "iopub.status.idle": "2024-09-30T13:36:26.680760Z",
     "shell.execute_reply": "2024-09-30T13:36:26.679782Z"
    },
    "id": "EZMXmx5yWhQm",
    "papermill": {
     "duration": 0.338572,
     "end_time": "2024-09-30T13:36:26.683400",
     "exception": false,
     "start_time": "2024-09-30T13:36:26.344828",
     "status": "completed"
    },
    "tags": []
   },
   "outputs": [],
   "source": [
    "import statsmodels.stats.api as sms\n",
    "from scipy.stats import ttest_1samp, shapiro, levene, ttest_ind, mannwhitneyu, \\\n",
    "pearsonr, spearmanr, kendalltau, f_oneway, kruskal\n",
    "from statsmodels.stats.proportion import proportions_ztest\n",
    "\n",
    "pd.set_option(\"display.max_columns\", None)\n",
    "pd.set_option(\"display.width\", 500)\n",
    "pd.set_option(\"display.float_format\", lambda x: '%.5f' % x)\n"
   ]
  },
  {
   "cell_type": "code",
   "execution_count": 4,
   "id": "1a20807c",
   "metadata": {
    "execution": {
     "iopub.execute_input": "2024-09-30T13:36:26.695049Z",
     "iopub.status.busy": "2024-09-30T13:36:26.694673Z",
     "iopub.status.idle": "2024-09-30T13:36:26.725097Z",
     "shell.execute_reply": "2024-09-30T13:36:26.724102Z"
    },
    "id": "0zMih1F0YLO7",
    "papermill": {
     "duration": 0.03934,
     "end_time": "2024-09-30T13:36:26.727686",
     "exception": false,
     "start_time": "2024-09-30T13:36:26.688346",
     "status": "completed"
    },
    "tags": []
   },
   "outputs": [],
   "source": [
    "\n",
    "Control = pd.read_csv(\"/kaggle/input/facebook-ab-test-of-bidding-feature/ab_test/control_group.csv\")\n",
    "Test = pd.read_csv(\"/kaggle/input/facebook-ab-test-of-bidding-feature/ab_test/test_group.csv\" )"
   ]
  },
  {
   "cell_type": "code",
   "execution_count": 5,
   "id": "9c95fa9d",
   "metadata": {
    "execution": {
     "iopub.execute_input": "2024-09-30T13:36:26.739223Z",
     "iopub.status.busy": "2024-09-30T13:36:26.738852Z",
     "iopub.status.idle": "2024-09-30T13:36:26.760514Z",
     "shell.execute_reply": "2024-09-30T13:36:26.759125Z"
    },
    "id": "w6lL3xv2ZB-R",
    "outputId": "9ea973c4-ea57-4785-da29-5f7ee59b3a60",
    "papermill": {
     "duration": 0.030518,
     "end_time": "2024-09-30T13:36:26.763198",
     "exception": false,
     "start_time": "2024-09-30T13:36:26.732680",
     "status": "completed"
    },
    "tags": []
   },
   "outputs": [
    {
     "data": {
      "text/html": [
       "<div>\n",
       "<style scoped>\n",
       "    .dataframe tbody tr th:only-of-type {\n",
       "        vertical-align: middle;\n",
       "    }\n",
       "\n",
       "    .dataframe tbody tr th {\n",
       "        vertical-align: top;\n",
       "    }\n",
       "\n",
       "    .dataframe thead th {\n",
       "        text-align: right;\n",
       "    }\n",
       "</style>\n",
       "<table border=\"1\" class=\"dataframe\">\n",
       "  <thead>\n",
       "    <tr style=\"text-align: right;\">\n",
       "      <th></th>\n",
       "      <th>Impression</th>\n",
       "      <th>Click</th>\n",
       "      <th>Purchase</th>\n",
       "      <th>Earning</th>\n",
       "    </tr>\n",
       "  </thead>\n",
       "  <tbody>\n",
       "    <tr>\n",
       "      <th>0</th>\n",
       "      <td>82529</td>\n",
       "      <td>6090</td>\n",
       "      <td>665</td>\n",
       "      <td>2311</td>\n",
       "    </tr>\n",
       "    <tr>\n",
       "      <th>1</th>\n",
       "      <td>98050</td>\n",
       "      <td>3383</td>\n",
       "      <td>315</td>\n",
       "      <td>1743</td>\n",
       "    </tr>\n",
       "    <tr>\n",
       "      <th>2</th>\n",
       "      <td>82696</td>\n",
       "      <td>4168</td>\n",
       "      <td>458</td>\n",
       "      <td>1798</td>\n",
       "    </tr>\n",
       "    <tr>\n",
       "      <th>3</th>\n",
       "      <td>109914</td>\n",
       "      <td>4911</td>\n",
       "      <td>487</td>\n",
       "      <td>1696</td>\n",
       "    </tr>\n",
       "    <tr>\n",
       "      <th>4</th>\n",
       "      <td>108458</td>\n",
       "      <td>5988</td>\n",
       "      <td>441</td>\n",
       "      <td>1544</td>\n",
       "    </tr>\n",
       "  </tbody>\n",
       "</table>\n",
       "</div>"
      ],
      "text/plain": [
       "   Impression  Click  Purchase  Earning\n",
       "0       82529   6090       665     2311\n",
       "1       98050   3383       315     1743\n",
       "2       82696   4168       458     1798\n",
       "3      109914   4911       487     1696\n",
       "4      108458   5988       441     1544"
      ]
     },
     "execution_count": 5,
     "metadata": {},
     "output_type": "execute_result"
    }
   ],
   "source": [
    "Control.head()"
   ]
  },
  {
   "cell_type": "code",
   "execution_count": 6,
   "id": "1e3ea7fd",
   "metadata": {
    "execution": {
     "iopub.execute_input": "2024-09-30T13:36:26.774748Z",
     "iopub.status.busy": "2024-09-30T13:36:26.774347Z",
     "iopub.status.idle": "2024-09-30T13:36:26.785652Z",
     "shell.execute_reply": "2024-09-30T13:36:26.784466Z"
    },
    "id": "Vluf_F_EZFQt",
    "outputId": "88131678-8083-465d-a663-30405d84f434",
    "papermill": {
     "duration": 0.019969,
     "end_time": "2024-09-30T13:36:26.788132",
     "exception": false,
     "start_time": "2024-09-30T13:36:26.768163",
     "status": "completed"
    },
    "tags": []
   },
   "outputs": [
    {
     "data": {
      "text/html": [
       "<div>\n",
       "<style scoped>\n",
       "    .dataframe tbody tr th:only-of-type {\n",
       "        vertical-align: middle;\n",
       "    }\n",
       "\n",
       "    .dataframe tbody tr th {\n",
       "        vertical-align: top;\n",
       "    }\n",
       "\n",
       "    .dataframe thead th {\n",
       "        text-align: right;\n",
       "    }\n",
       "</style>\n",
       "<table border=\"1\" class=\"dataframe\">\n",
       "  <thead>\n",
       "    <tr style=\"text-align: right;\">\n",
       "      <th></th>\n",
       "      <th>Impression</th>\n",
       "      <th>Click</th>\n",
       "      <th>Purchase</th>\n",
       "      <th>Earning</th>\n",
       "    </tr>\n",
       "  </thead>\n",
       "  <tbody>\n",
       "    <tr>\n",
       "      <th>0</th>\n",
       "      <td>120104</td>\n",
       "      <td>3217</td>\n",
       "      <td>702</td>\n",
       "      <td>1940</td>\n",
       "    </tr>\n",
       "    <tr>\n",
       "      <th>1</th>\n",
       "      <td>134776</td>\n",
       "      <td>3635</td>\n",
       "      <td>834</td>\n",
       "      <td>2929</td>\n",
       "    </tr>\n",
       "    <tr>\n",
       "      <th>2</th>\n",
       "      <td>107807</td>\n",
       "      <td>3057</td>\n",
       "      <td>423</td>\n",
       "      <td>2526</td>\n",
       "    </tr>\n",
       "    <tr>\n",
       "      <th>3</th>\n",
       "      <td>116445</td>\n",
       "      <td>4650</td>\n",
       "      <td>429</td>\n",
       "      <td>2281</td>\n",
       "    </tr>\n",
       "    <tr>\n",
       "      <th>4</th>\n",
       "      <td>145083</td>\n",
       "      <td>5201</td>\n",
       "      <td>750</td>\n",
       "      <td>2782</td>\n",
       "    </tr>\n",
       "  </tbody>\n",
       "</table>\n",
       "</div>"
      ],
      "text/plain": [
       "   Impression  Click  Purchase  Earning\n",
       "0      120104   3217       702     1940\n",
       "1      134776   3635       834     2929\n",
       "2      107807   3057       423     2526\n",
       "3      116445   4650       429     2281\n",
       "4      145083   5201       750     2782"
      ]
     },
     "execution_count": 6,
     "metadata": {},
     "output_type": "execute_result"
    }
   ],
   "source": [
    "Test.head()"
   ]
  },
  {
   "cell_type": "code",
   "execution_count": 7,
   "id": "b36acdd9",
   "metadata": {
    "execution": {
     "iopub.execute_input": "2024-09-30T13:36:26.800383Z",
     "iopub.status.busy": "2024-09-30T13:36:26.799925Z",
     "iopub.status.idle": "2024-09-30T13:36:26.826720Z",
     "shell.execute_reply": "2024-09-30T13:36:26.825614Z"
    },
    "id": "Ilz7WeZDZevx",
    "outputId": "62a2538f-8fa1-4b0d-d47e-0c2f2c241ba6",
    "papermill": {
     "duration": 0.035776,
     "end_time": "2024-09-30T13:36:26.829168",
     "exception": false,
     "start_time": "2024-09-30T13:36:26.793392",
     "status": "completed"
    },
    "tags": []
   },
   "outputs": [
    {
     "data": {
      "text/html": [
       "<div>\n",
       "<style scoped>\n",
       "    .dataframe tbody tr th:only-of-type {\n",
       "        vertical-align: middle;\n",
       "    }\n",
       "\n",
       "    .dataframe tbody tr th {\n",
       "        vertical-align: top;\n",
       "    }\n",
       "\n",
       "    .dataframe thead th {\n",
       "        text-align: right;\n",
       "    }\n",
       "</style>\n",
       "<table border=\"1\" class=\"dataframe\">\n",
       "  <thead>\n",
       "    <tr style=\"text-align: right;\">\n",
       "      <th></th>\n",
       "      <th>Impression</th>\n",
       "      <th>Click</th>\n",
       "      <th>Purchase</th>\n",
       "      <th>Earning</th>\n",
       "    </tr>\n",
       "  </thead>\n",
       "  <tbody>\n",
       "    <tr>\n",
       "      <th>count</th>\n",
       "      <td>40.00000</td>\n",
       "      <td>40.00000</td>\n",
       "      <td>40.00000</td>\n",
       "      <td>40.00000</td>\n",
       "    </tr>\n",
       "    <tr>\n",
       "      <th>mean</th>\n",
       "      <td>101711.45000</td>\n",
       "      <td>5100.62500</td>\n",
       "      <td>550.90000</td>\n",
       "      <td>1908.57500</td>\n",
       "    </tr>\n",
       "    <tr>\n",
       "      <th>std</th>\n",
       "      <td>20302.12298</td>\n",
       "      <td>1329.95777</td>\n",
       "      <td>134.11052</td>\n",
       "      <td>302.86833</td>\n",
       "    </tr>\n",
       "    <tr>\n",
       "      <th>min</th>\n",
       "      <td>45476.00000</td>\n",
       "      <td>2190.00000</td>\n",
       "      <td>267.00000</td>\n",
       "      <td>1254.00000</td>\n",
       "    </tr>\n",
       "    <tr>\n",
       "      <th>25%</th>\n",
       "      <td>85726.75000</td>\n",
       "      <td>4124.25000</td>\n",
       "      <td>470.50000</td>\n",
       "      <td>1685.75000</td>\n",
       "    </tr>\n",
       "    <tr>\n",
       "      <th>50%</th>\n",
       "      <td>99790.50000</td>\n",
       "      <td>5001.50000</td>\n",
       "      <td>531.50000</td>\n",
       "      <td>1975.00000</td>\n",
       "    </tr>\n",
       "    <tr>\n",
       "      <th>75%</th>\n",
       "      <td>115212.50000</td>\n",
       "      <td>5923.50000</td>\n",
       "      <td>638.00000</td>\n",
       "      <td>2120.00000</td>\n",
       "    </tr>\n",
       "    <tr>\n",
       "      <th>max</th>\n",
       "      <td>147539.00000</td>\n",
       "      <td>7959.00000</td>\n",
       "      <td>802.00000</td>\n",
       "      <td>2497.00000</td>\n",
       "    </tr>\n",
       "  </tbody>\n",
       "</table>\n",
       "</div>"
      ],
      "text/plain": [
       "        Impression      Click  Purchase    Earning\n",
       "count     40.00000   40.00000  40.00000   40.00000\n",
       "mean  101711.45000 5100.62500 550.90000 1908.57500\n",
       "std    20302.12298 1329.95777 134.11052  302.86833\n",
       "min    45476.00000 2190.00000 267.00000 1254.00000\n",
       "25%    85726.75000 4124.25000 470.50000 1685.75000\n",
       "50%    99790.50000 5001.50000 531.50000 1975.00000\n",
       "75%   115212.50000 5923.50000 638.00000 2120.00000\n",
       "max   147539.00000 7959.00000 802.00000 2497.00000"
      ]
     },
     "execution_count": 7,
     "metadata": {},
     "output_type": "execute_result"
    }
   ],
   "source": [
    "#Adım 2\n",
    "Control.describe()\n"
   ]
  },
  {
   "cell_type": "code",
   "execution_count": 8,
   "id": "7b9e9979",
   "metadata": {
    "execution": {
     "iopub.execute_input": "2024-09-30T13:36:26.842244Z",
     "iopub.status.busy": "2024-09-30T13:36:26.841854Z",
     "iopub.status.idle": "2024-09-30T13:36:26.861959Z",
     "shell.execute_reply": "2024-09-30T13:36:26.860877Z"
    },
    "id": "RpqScTdcZqSG",
    "outputId": "9043514f-9347-4f69-b5b0-24a341687ffd",
    "papermill": {
     "duration": 0.029759,
     "end_time": "2024-09-30T13:36:26.864353",
     "exception": false,
     "start_time": "2024-09-30T13:36:26.834594",
     "status": "completed"
    },
    "tags": []
   },
   "outputs": [
    {
     "data": {
      "text/html": [
       "<div>\n",
       "<style scoped>\n",
       "    .dataframe tbody tr th:only-of-type {\n",
       "        vertical-align: middle;\n",
       "    }\n",
       "\n",
       "    .dataframe tbody tr th {\n",
       "        vertical-align: top;\n",
       "    }\n",
       "\n",
       "    .dataframe thead th {\n",
       "        text-align: right;\n",
       "    }\n",
       "</style>\n",
       "<table border=\"1\" class=\"dataframe\">\n",
       "  <thead>\n",
       "    <tr style=\"text-align: right;\">\n",
       "      <th></th>\n",
       "      <th>Impression</th>\n",
       "      <th>Click</th>\n",
       "      <th>Purchase</th>\n",
       "      <th>Earning</th>\n",
       "    </tr>\n",
       "  </thead>\n",
       "  <tbody>\n",
       "    <tr>\n",
       "      <th>count</th>\n",
       "      <td>40.00000</td>\n",
       "      <td>40.00000</td>\n",
       "      <td>40.00000</td>\n",
       "      <td>40.00000</td>\n",
       "    </tr>\n",
       "    <tr>\n",
       "      <th>mean</th>\n",
       "      <td>120512.42500</td>\n",
       "      <td>3967.55000</td>\n",
       "      <td>582.05000</td>\n",
       "      <td>2514.92500</td>\n",
       "    </tr>\n",
       "    <tr>\n",
       "      <th>std</th>\n",
       "      <td>18807.46662</td>\n",
       "      <td>923.07177</td>\n",
       "      <td>161.17516</td>\n",
       "      <td>282.70791</td>\n",
       "    </tr>\n",
       "    <tr>\n",
       "      <th>min</th>\n",
       "      <td>79034.00000</td>\n",
       "      <td>1837.00000</td>\n",
       "      <td>312.00000</td>\n",
       "      <td>1940.00000</td>\n",
       "    </tr>\n",
       "    <tr>\n",
       "      <th>25%</th>\n",
       "      <td>112692.25000</td>\n",
       "      <td>3376.50000</td>\n",
       "      <td>444.75000</td>\n",
       "      <td>2280.25000</td>\n",
       "    </tr>\n",
       "    <tr>\n",
       "      <th>50%</th>\n",
       "      <td>119291.50000</td>\n",
       "      <td>3931.50000</td>\n",
       "      <td>551.00000</td>\n",
       "      <td>2544.50000</td>\n",
       "    </tr>\n",
       "    <tr>\n",
       "      <th>75%</th>\n",
       "      <td>132050.75000</td>\n",
       "      <td>4660.25000</td>\n",
       "      <td>699.75000</td>\n",
       "      <td>2761.75000</td>\n",
       "    </tr>\n",
       "    <tr>\n",
       "      <th>max</th>\n",
       "      <td>158606.00000</td>\n",
       "      <td>6020.00000</td>\n",
       "      <td>890.00000</td>\n",
       "      <td>3171.00000</td>\n",
       "    </tr>\n",
       "  </tbody>\n",
       "</table>\n",
       "</div>"
      ],
      "text/plain": [
       "        Impression      Click  Purchase    Earning\n",
       "count     40.00000   40.00000  40.00000   40.00000\n",
       "mean  120512.42500 3967.55000 582.05000 2514.92500\n",
       "std    18807.46662  923.07177 161.17516  282.70791\n",
       "min    79034.00000 1837.00000 312.00000 1940.00000\n",
       "25%   112692.25000 3376.50000 444.75000 2280.25000\n",
       "50%   119291.50000 3931.50000 551.00000 2544.50000\n",
       "75%   132050.75000 4660.25000 699.75000 2761.75000\n",
       "max   158606.00000 6020.00000 890.00000 3171.00000"
      ]
     },
     "execution_count": 8,
     "metadata": {},
     "output_type": "execute_result"
    }
   ],
   "source": [
    "Test.describe()"
   ]
  },
  {
   "cell_type": "code",
   "execution_count": 9,
   "id": "f8cc8bea",
   "metadata": {
    "execution": {
     "iopub.execute_input": "2024-09-30T13:36:26.877778Z",
     "iopub.status.busy": "2024-09-30T13:36:26.876967Z",
     "iopub.status.idle": "2024-09-30T13:36:26.884017Z",
     "shell.execute_reply": "2024-09-30T13:36:26.882964Z"
    },
    "id": "fB5DqNJdaHwP",
    "papermill": {
     "duration": 0.016207,
     "end_time": "2024-09-30T13:36:26.886335",
     "exception": false,
     "start_time": "2024-09-30T13:36:26.870128",
     "status": "completed"
    },
    "tags": []
   },
   "outputs": [],
   "source": [
    "Control[\"AB\"] = 'Control'\n",
    "Test[\"AB\"] = 'Test'\n",
    "df = pd.concat([Control, Test])"
   ]
  },
  {
   "cell_type": "code",
   "execution_count": 10,
   "id": "d2f1de7f",
   "metadata": {
    "execution": {
     "iopub.execute_input": "2024-09-30T13:36:26.900879Z",
     "iopub.status.busy": "2024-09-30T13:36:26.900047Z",
     "iopub.status.idle": "2024-09-30T13:36:26.912060Z",
     "shell.execute_reply": "2024-09-30T13:36:26.910695Z"
    },
    "id": "E10O2YEDaXo7",
    "outputId": "d5af5f3a-6e58-423c-9752-c2dd2478f51a",
    "papermill": {
     "duration": 0.021323,
     "end_time": "2024-09-30T13:36:26.914316",
     "exception": false,
     "start_time": "2024-09-30T13:36:26.892993",
     "status": "completed"
    },
    "tags": []
   },
   "outputs": [
    {
     "data": {
      "text/html": [
       "<div>\n",
       "<style scoped>\n",
       "    .dataframe tbody tr th:only-of-type {\n",
       "        vertical-align: middle;\n",
       "    }\n",
       "\n",
       "    .dataframe tbody tr th {\n",
       "        vertical-align: top;\n",
       "    }\n",
       "\n",
       "    .dataframe thead th {\n",
       "        text-align: right;\n",
       "    }\n",
       "</style>\n",
       "<table border=\"1\" class=\"dataframe\">\n",
       "  <thead>\n",
       "    <tr style=\"text-align: right;\">\n",
       "      <th></th>\n",
       "      <th>Impression</th>\n",
       "      <th>Click</th>\n",
       "      <th>Purchase</th>\n",
       "      <th>Earning</th>\n",
       "      <th>AB</th>\n",
       "    </tr>\n",
       "  </thead>\n",
       "  <tbody>\n",
       "    <tr>\n",
       "      <th>0</th>\n",
       "      <td>82529</td>\n",
       "      <td>6090</td>\n",
       "      <td>665</td>\n",
       "      <td>2311</td>\n",
       "      <td>Control</td>\n",
       "    </tr>\n",
       "    <tr>\n",
       "      <th>1</th>\n",
       "      <td>98050</td>\n",
       "      <td>3383</td>\n",
       "      <td>315</td>\n",
       "      <td>1743</td>\n",
       "      <td>Control</td>\n",
       "    </tr>\n",
       "    <tr>\n",
       "      <th>2</th>\n",
       "      <td>82696</td>\n",
       "      <td>4168</td>\n",
       "      <td>458</td>\n",
       "      <td>1798</td>\n",
       "      <td>Control</td>\n",
       "    </tr>\n",
       "    <tr>\n",
       "      <th>3</th>\n",
       "      <td>109914</td>\n",
       "      <td>4911</td>\n",
       "      <td>487</td>\n",
       "      <td>1696</td>\n",
       "      <td>Control</td>\n",
       "    </tr>\n",
       "    <tr>\n",
       "      <th>4</th>\n",
       "      <td>108458</td>\n",
       "      <td>5988</td>\n",
       "      <td>441</td>\n",
       "      <td>1544</td>\n",
       "      <td>Control</td>\n",
       "    </tr>\n",
       "  </tbody>\n",
       "</table>\n",
       "</div>"
      ],
      "text/plain": [
       "   Impression  Click  Purchase  Earning       AB\n",
       "0       82529   6090       665     2311  Control\n",
       "1       98050   3383       315     1743  Control\n",
       "2       82696   4168       458     1798  Control\n",
       "3      109914   4911       487     1696  Control\n",
       "4      108458   5988       441     1544  Control"
      ]
     },
     "execution_count": 10,
     "metadata": {},
     "output_type": "execute_result"
    }
   ],
   "source": [
    "df.head()"
   ]
  },
  {
   "cell_type": "code",
   "execution_count": 11,
   "id": "88b65c7a",
   "metadata": {
    "execution": {
     "iopub.execute_input": "2024-09-30T13:36:26.928231Z",
     "iopub.status.busy": "2024-09-30T13:36:26.927831Z",
     "iopub.status.idle": "2024-09-30T13:36:26.943672Z",
     "shell.execute_reply": "2024-09-30T13:36:26.942586Z"
    },
    "id": "CtMs6kpLjowv",
    "outputId": "26d9d430-15d7-435d-d7d3-0afec8a912ff",
    "papermill": {
     "duration": 0.025559,
     "end_time": "2024-09-30T13:36:26.946030",
     "exception": false,
     "start_time": "2024-09-30T13:36:26.920471",
     "status": "completed"
    },
    "tags": []
   },
   "outputs": [
    {
     "data": {
      "text/plain": [
       "AB\n",
       "Control   550.90000\n",
       "Test      582.05000\n",
       "Name: Purchase, dtype: float64"
      ]
     },
     "execution_count": 11,
     "metadata": {},
     "output_type": "execute_result"
    }
   ],
   "source": [
    "df.groupby(\"AB\")[\"Purchase\"].mean()"
   ]
  },
  {
   "cell_type": "code",
   "execution_count": 12,
   "id": "aedca5a0",
   "metadata": {
    "execution": {
     "iopub.execute_input": "2024-09-30T13:36:26.960275Z",
     "iopub.status.busy": "2024-09-30T13:36:26.959848Z",
     "iopub.status.idle": "2024-09-30T13:36:26.971244Z",
     "shell.execute_reply": "2024-09-30T13:36:26.969979Z"
    },
    "id": "VjKSzFR2r7hX",
    "outputId": "a6a71c4d-cd88-4b22-d731-29f07dcbe0c7",
    "papermill": {
     "duration": 0.021604,
     "end_time": "2024-09-30T13:36:26.973816",
     "exception": false,
     "start_time": "2024-09-30T13:36:26.952212",
     "status": "completed"
    },
    "tags": []
   },
   "outputs": [
    {
     "data": {
      "text/plain": [
       "AB\n",
       "Control   134.11052\n",
       "Test      161.17516\n",
       "Name: Purchase, dtype: float64"
      ]
     },
     "execution_count": 12,
     "metadata": {},
     "output_type": "execute_result"
    }
   ],
   "source": [
    "df.groupby(\"AB\")[\"Purchase\"].std()"
   ]
  },
  {
   "cell_type": "code",
   "execution_count": 13,
   "id": "e4916a7a",
   "metadata": {
    "execution": {
     "iopub.execute_input": "2024-09-30T13:36:26.989142Z",
     "iopub.status.busy": "2024-09-30T13:36:26.988168Z",
     "iopub.status.idle": "2024-09-30T13:36:26.998576Z",
     "shell.execute_reply": "2024-09-30T13:36:26.997455Z"
    },
    "id": "UckOs0WXeTpk",
    "outputId": "e63240b2-bff9-4d72-83b7-fd8197099d98",
    "papermill": {
     "duration": 0.020145,
     "end_time": "2024-09-30T13:36:27.000762",
     "exception": false,
     "start_time": "2024-09-30T13:36:26.980617",
     "status": "completed"
    },
    "tags": []
   },
   "outputs": [
    {
     "name": "stdout",
     "output_type": "stream",
     "text": [
      "Test Stat 0.9774 , Pvalue 0.5929\n",
      "Test Stat 0.9589 , Pvalue 0.1541\n"
     ]
    }
   ],
   "source": [
    "#Hipotezlerin Kurulması\n",
    "#H0: M1=M2 Kontrol ve Test grubunun satın almaları arasında anlamlı bir fark yoktur.\n",
    "#H1 M1 !=M2 ......Vardır.\n",
    "\n",
    "#Varsayım Kontrolü\n",
    "#1.Normallik Varsayımı : Shapiro Testi\n",
    "# H0: Normal dağılım varsayımı sağlanmaktadır.\n",
    "# H1:..sağlanmamaktadır.\n",
    "\n",
    "test_stat, pvalue = shapiro(df.loc[df[\"AB\"] == 'Control', 'Purchase'])\n",
    "print('Test Stat %.4f , Pvalue %.4f'%(test_stat, pvalue))\n",
    "#pvalue < 0.05 olmadığı için H0 reddedilemez.\n",
    "\n",
    "test_stat, pvalue = shapiro(df.loc[df[\"AB\"] == 'Test', 'Purchase'])\n",
    "print('Test Stat %.4f , Pvalue %.4f'%(test_stat, pvalue))\n",
    "#pvalue < 0.05 olmadığı için H0 reddedilemez."
   ]
  },
  {
   "cell_type": "code",
   "execution_count": 14,
   "id": "09205d4c",
   "metadata": {
    "execution": {
     "iopub.execute_input": "2024-09-30T13:36:27.015869Z",
     "iopub.status.busy": "2024-09-30T13:36:27.014872Z",
     "iopub.status.idle": "2024-09-30T13:36:27.027595Z",
     "shell.execute_reply": "2024-09-30T13:36:27.026464Z"
    },
    "id": "vyfj9SN6eTxz",
    "outputId": "bb87a2d0-b8f8-445e-f1b9-ec13bbc8b3f0",
    "papermill": {
     "duration": 0.023387,
     "end_time": "2024-09-30T13:36:27.030441",
     "exception": false,
     "start_time": "2024-09-30T13:36:27.007054",
     "status": "completed"
    },
    "tags": []
   },
   "outputs": [
    {
     "name": "stdout",
     "output_type": "stream",
     "text": [
      "Test Stat 2.6403 , Pvalue 0.1082\n"
     ]
    }
   ],
   "source": [
    "#2. Varyans Homojenliği: Levene testi\n",
    "# H0: Varyanslar Homojendir\n",
    "# H1: Varyanslar Homojen Değildir.\n",
    "test_stat, pvalue = levene(df.loc[df[\"AB\"] == 'Control', 'Purchase'],\n",
    "                                  df.loc[df[\"AB\"] == 'Test', 'Purchase'])\n",
    "print('Test Stat %.4f , Pvalue %.4f'%(test_stat, pvalue))\n",
    "#Pvalue <0.05 olmadığı için H0 Reddedilemez.\n",
    "#Varsayımlar sağlandığı için bağımsız iki örneklem t testi (parametrik test)\n",
    "# 1. Varsayımlar sağlanıyorsa bağımsız iki örneklem t testi (parametrik test)\n",
    "# 2. Varsayımlar sağlanmıyorsa mannwhitneyu testi (non-parametrik test)"
   ]
  },
  {
   "cell_type": "code",
   "execution_count": 15,
   "id": "58443ec2",
   "metadata": {
    "execution": {
     "iopub.execute_input": "2024-09-30T13:36:27.045367Z",
     "iopub.status.busy": "2024-09-30T13:36:27.044903Z",
     "iopub.status.idle": "2024-09-30T13:36:27.057705Z",
     "shell.execute_reply": "2024-09-30T13:36:27.056192Z"
    },
    "id": "M7m3gB8VeT1h",
    "outputId": "5d447a10-c3f8-4b7a-b97b-4d526b602be1",
    "papermill": {
     "duration": 0.02302,
     "end_time": "2024-09-30T13:36:27.060033",
     "exception": false,
     "start_time": "2024-09-30T13:36:27.037013",
     "status": "completed"
    },
    "tags": []
   },
   "outputs": [
    {
     "name": "stdout",
     "output_type": "stream",
     "text": [
      "Test Stat -0.9396 , Pvalue 0.3503\n"
     ]
    }
   ],
   "source": [
    "# HİPOTEZİN UYGULANMASI\n",
    "#H0: M1=M2 Kontrol ve Test grubunun satın almaları arasında anlamlı bir fark yoktur.\n",
    "#H1 ......Vardır.\n",
    "\n",
    "test_stat, pvalue = ttest_ind(df.loc[df[\"AB\"] == 'Control', 'Purchase'],\n",
    "                              df.loc[df[\"AB\"] == 'Test', 'Purchase'], equal_var=True)\n",
    "\n",
    "print('Test Stat %.4f , Pvalue %.4f'%(test_stat, pvalue))\n",
    "\n",
    "#pvalue <0.05 olmadığı için H0 reddedilemez.\n",
    "#Sonuç olarak Kontrol ve test grubu arasında anlamlı bir fark yoktur."
   ]
  },
  {
   "cell_type": "code",
   "execution_count": null,
   "id": "721244e8",
   "metadata": {
    "id": "MAIcOXGNr3WO",
    "papermill": {
     "duration": 0.006218,
     "end_time": "2024-09-30T13:36:27.072926",
     "exception": false,
     "start_time": "2024-09-30T13:36:27.066708",
     "status": "completed"
    },
    "tags": []
   },
   "outputs": [],
   "source": []
  },
  {
   "cell_type": "code",
   "execution_count": 16,
   "id": "a05fa827",
   "metadata": {
    "execution": {
     "iopub.execute_input": "2024-09-30T13:36:27.087796Z",
     "iopub.status.busy": "2024-09-30T13:36:27.087388Z",
     "iopub.status.idle": "2024-09-30T13:36:27.092506Z",
     "shell.execute_reply": "2024-09-30T13:36:27.091255Z"
    },
    "id": "nls3fC6RhPD1",
    "papermill": {
     "duration": 0.015443,
     "end_time": "2024-09-30T13:36:27.094883",
     "exception": false,
     "start_time": "2024-09-30T13:36:27.079440",
     "status": "completed"
    },
    "tags": []
   },
   "outputs": [],
   "source": [
    "#GÖREV 4\n",
    "#Adım 1\n",
    "# Bağımsız iki örneklem t testini(parametrik) kullandım.\n",
    "# Çünkü varsayımların ikisi de sağlanıyordu.\n",
    "#Adım 2\n",
    "# Kontrol ve test grubu arasında anlamlı bir fark görülmemektedir.\n",
    "# Veriyi Earning değişkeni ile inceleyecek olursak ortalamaları arasında %30'dan fazla bir fark bulunmamaktadır.\n",
    "# Belki de o şekilde incelenmelidir."
   ]
  },
  {
   "cell_type": "code",
   "execution_count": 17,
   "id": "d4b58c27",
   "metadata": {
    "execution": {
     "iopub.execute_input": "2024-09-30T13:36:27.110286Z",
     "iopub.status.busy": "2024-09-30T13:36:27.109887Z",
     "iopub.status.idle": "2024-09-30T13:36:27.119627Z",
     "shell.execute_reply": "2024-09-30T13:36:27.118272Z"
    },
    "id": "0z65h5tCl5V7",
    "outputId": "d59b0919-c1c7-465b-93d2-58ae6464889b",
    "papermill": {
     "duration": 0.020358,
     "end_time": "2024-09-30T13:36:27.122126",
     "exception": false,
     "start_time": "2024-09-30T13:36:27.101768",
     "status": "completed"
    },
    "tags": []
   },
   "outputs": [
    {
     "data": {
      "text/plain": [
       "AB\n",
       "Control   1908.57500\n",
       "Test      2514.92500\n",
       "Name: Earning, dtype: float64"
      ]
     },
     "execution_count": 17,
     "metadata": {},
     "output_type": "execute_result"
    }
   ],
   "source": [
    "df.groupby(\"AB\")[\"Earning\"].mean()"
   ]
  },
  {
   "cell_type": "code",
   "execution_count": 18,
   "id": "9d0af889",
   "metadata": {
    "execution": {
     "iopub.execute_input": "2024-09-30T13:36:27.138102Z",
     "iopub.status.busy": "2024-09-30T13:36:27.137669Z",
     "iopub.status.idle": "2024-09-30T13:36:27.146630Z",
     "shell.execute_reply": "2024-09-30T13:36:27.145502Z"
    },
    "id": "j4-S3ZqgmaCr",
    "outputId": "32f47449-6036-48c4-f1e8-34f5c2ce44f3",
    "papermill": {
     "duration": 0.01967,
     "end_time": "2024-09-30T13:36:27.149048",
     "exception": false,
     "start_time": "2024-09-30T13:36:27.129378",
     "status": "completed"
    },
    "tags": []
   },
   "outputs": [
    {
     "data": {
      "text/plain": [
       "0.7588993707565832"
      ]
     },
     "execution_count": 18,
     "metadata": {},
     "output_type": "execute_result"
    }
   ],
   "source": [
    "a =df.groupby(\"AB\")[\"Earning\"].mean()\n",
    "a.values[0] / a.values[1]"
   ]
  }
 ],
 "metadata": {
  "colab": {
   "provenance": []
  },
  "kaggle": {
   "accelerator": "none",
   "dataSources": [
    {
     "datasetId": 3841902,
     "sourceId": 6657370,
     "sourceType": "datasetVersion"
    }
   ],
   "dockerImageVersionId": 30775,
   "isGpuEnabled": false,
   "isInternetEnabled": true,
   "language": "python",
   "sourceType": "notebook"
  },
  "kernelspec": {
   "display_name": "Python 3",
   "name": "python3"
  },
  "language_info": {
   "codemirror_mode": {
    "name": "ipython",
    "version": 3
   },
   "file_extension": ".py",
   "mimetype": "text/x-python",
   "name": "python",
   "nbconvert_exporter": "python",
   "pygments_lexer": "ipython3",
   "version": "3.10.14"
  },
  "papermill": {
   "default_parameters": {},
   "duration": 19.588393,
   "end_time": "2024-09-30T13:36:27.778343",
   "environment_variables": {},
   "exception": null,
   "input_path": "__notebook__.ipynb",
   "output_path": "__notebook__.ipynb",
   "parameters": {},
   "start_time": "2024-09-30T13:36:08.189950",
   "version": "2.6.0"
  }
 },
 "nbformat": 4,
 "nbformat_minor": 5
}
